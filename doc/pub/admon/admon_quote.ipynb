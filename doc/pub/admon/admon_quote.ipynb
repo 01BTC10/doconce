{
 "metadata": {},
 "nbformat": 3,
 "nbformat_minor": 0,
 "worksheets": [
  {
   "cells": [
    {
     "cell_type": "markdown",
     "metadata": {},
     "source": [
      "# Demo of admonition styles in DocOnce\n",
      "**May 2, 2015**\n",
      "\n",
      "**Summary.** This note demonstrates how admonitions look like in the output format\n",
      "**ipynb**.\n",
      "\n",
      "\n",
      "\n",
      "## The four main types of admonitions\n",
      "\n",
      "Key options when compiling this document were"
     ]
    },
    {
     "cell_type": "markdown",
     "metadata": {},
     "source": [
      "        --ipynb_admon=quote\n"
     ]
    },
    {
     "cell_type": "markdown",
     "metadata": {},
     "source": [
      "Here is the warning admon:\n",
      "\n",
      "> **Division by zero is illegal!**\n",
      ">\n",
      "> Most math systems will give fatal errors if you divide by zero.\n",
      ">"
     ]
    },
    {
     "cell_type": "markdown",
     "metadata": {},
     "source": [
      "        Terminal> python -c 'print 4/0'\n",
      "        Traceback (most recent call last):\n",
      "          File \"<string>\", line 1, in <module>\n",
      "        ZeroDivisionError: integer division or modulo by zero\n"
     ]
    },
    {
     "cell_type": "markdown",
     "metadata": {},
     "source": [
      "Question admon (without title).\n",
      "\n",
      "> **Question.**\n",
      ">\n",
      "> What are the admon options for `doconce format html`?\n",
      "> \n",
      "> <!-- Answer: `--html_admon=`, `--html_admon_shadow`, `--html_admon_bg_color=`, -->\n",
      "> <!-- `--html_admon_bd_color`. There is also `--html_box_shadow` for boxes. -->\n",
      "\n",
      "\n",
      "\n",
      "\n",
      "\n",
      "Summary admon:\n",
      "\n",
      "> **Summary.**\n",
      ">\n",
      "> The most popular methods for solving algebraic equations\n",
      ">"
     ]
    },
    {
     "cell_type": "markdown",
     "metadata": {},
     "source": [
      "$$\n",
      "f(x) = 0\n",
      "$$"
     ]
    },
    {
     "cell_type": "markdown",
     "metadata": {},
     "source": [
      "> are\n",
      "> \n",
      ">  * Newton's method\n",
      "> \n",
      ">  * The Bisection method\n",
      "> \n",
      ">  * The Secant method\n",
      "> \n",
      ">  * The Fixed-Point method ($f(x) = x - g(x)$)\n",
      "\n",
      "\n",
      "\n",
      "\n",
      "\n",
      "\n",
      "Notice admon:\n",
      "\n",
      "> **Tip: follow well-established conventions for variable names!**\n",
      ">\n",
      "> For example, in Python, variable and function names use\n",
      "> lower case letters separated by underscore, as in\n",
      "> `vibration_with_damping` (while Java typically would\n",
      "> have `vibrationWithDamping`). Class names apply cap words,\n",
      "> as in `ProblemClass`.\n",
      "\n",
      "\n",
      "\n",
      "\n",
      "\n",
      "## The block, quote and plain box environment\n",
      "\n",
      "DocOnce features a `block` environment with or without title.\n",
      "\n",
      "> Blocks are often used in slides to frame a collection of things.\n",
      "\n",
      "\n",
      "\n",
      "\n",
      "\n",
      "> **Block with title.**\n",
      ">\n",
      "> Blocks can contain text, math, code, figures, movies.\n",
      "\n",
      "\n",
      "\n",
      "\n",
      "\n",
      "Here is a quote environment (`quote`):\n",
      "\n",
      "> Sayre's law states that\n",
      "> \"in any dispute the intensity of feeling is inversely\n",
      "> proportional to the value of the issues at stake.\" \n",
      "> By way of corollary, it adds: \n",
      "> \"That is why academic politics are so bitter.\" \n",
      "> *Source*: [wikipedia](http://en.wikipedia.org/wiki/Sayre's_law)\n",
      "\n",
      "\n",
      "\n",
      "\n",
      "\n",
      "Boxes are very simple frames (without any icons, background color,\n",
      "or stash, except for a shadow)\n",
      "used for important results like\n",
      "\n",
      "> **Box.**\n",
      ">\n",
      "> The world most famous equation:\n",
      ">"
     ]
    },
    {
     "cell_type": "markdown",
     "metadata": {},
     "source": [
      "$$\n",
      "E = mc^2\n",
      "$$"
     ]
    }
   ],
   "metadata": {}
  }
 ]
}
