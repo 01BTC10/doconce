{
 "metadata": {},
 "nbformat": 3,
 "nbformat_minor": 0,
 "worksheets": [
  {
   "cells": [
    {
     "cell_type": "markdown",
     "metadata": {},
     "source": [
      "# Special features for Jupyter notebooks\n",
      "**May 12, 2015**\n",
      "\n",
      "## Interactive sessions\n",
      "\n",
      "By default, interactive sessions in `!bc pyshell` and `!bc ipy`\n",
      "environments are split such that the output is removed and each\n",
      "input part is a separate cell. This means that when executing\n",
      "all the cells, one recreates the entire interactive session\n",
      "with all the output. Below is an example.\n",
      "\n",
      "### Solving the world's simplest differential equation\n",
      "\n",
      "Let us explore SymPy to solve"
     ]
    },
    {
     "cell_type": "markdown",
     "metadata": {},
     "source": [
      "$$\n",
      "y' = y,\\quad y(0)=y_0 = 2\\thinspace .\n",
      "$$"
     ]
    },
    {
     "cell_type": "markdown",
     "metadata": {},
     "source": [
      "<!-- This does not work in notebook: -->"
     ]
    },
    {
     "cell_type": "code",
     "collapsed": false,
     "input": [
      "from sympy import *\n",
      "t = symbols('t', real=True, positive=True)\n",
      "y = symbols('y', cls=Function)\n",
      "# Solve differential equation using dsolve\n",
      "eq = diff(y(t), t) - y(t)\n",
      "print eq\n"
     ],
     "language": "python",
     "metadata": {},
     "outputs": [],
     "prompt_number": 1
    },
    {
     "cell_type": "code",
     "collapsed": false,
     "input": [
      "sol = dsolve(eq)\n",
      "print sol\n"
     ],
     "language": "python",
     "metadata": {},
     "outputs": [],
     "prompt_number": 2
    },
    {
     "cell_type": "code",
     "collapsed": false,
     "input": [
      "y = sol.rhs          # grab right-hand side of equation\n",
      "# Determine integration constant C1 from initial condition\n",
      "C1 = symbols('C1')\n",
      "eq = y.subs(t, 0) - y0  # equation for initial condition\n",
      "print eq\n"
     ],
     "language": "python",
     "metadata": {},
     "outputs": [],
     "prompt_number": 3
    },
    {
     "cell_type": "code",
     "collapsed": false,
     "input": [
      "sol = solve(eq, C1)     # solve wrt C1\n",
      "print sol\n"
     ],
     "language": "python",
     "metadata": {},
     "outputs": [],
     "prompt_number": 4
    },
    {
     "cell_type": "code",
     "collapsed": false,
     "input": [
      "y = y.subs(C1, sol[0])  # insert C1=2 in solution\n",
      "print y\n"
     ],
     "language": "python",
     "metadata": {},
     "outputs": [],
     "prompt_number": 5
    },
    {
     "cell_type": "code",
     "collapsed": false,
     "input": [
      "print latex(y)\n"
     ],
     "language": "python",
     "metadata": {},
     "outputs": [],
     "prompt_number": 6
    },
    {
     "cell_type": "markdown",
     "metadata": {},
     "source": [
      "The DocOnce input syntax of the first part of the above session looks like\n",
      "this"
     ]
    },
    {
     "cell_type": "markdown",
     "metadata": {},
     "source": [
      "        !bc pyshell\n",
      "        >>> from sympy import *\n",
      "        >>> t = symbols('t', real=True, positive=True)\n",
      "        >>> y = symbols('y', cls=Function)\n",
      "        >>> # Solve differential equation using dsolve\n",
      "        >>> eq = diff(y(t), t) - y(t)\n",
      "        >>> print eq\n",
      "        -y(t) + Derivative(y(t), t)\n",
      "        >>> sol = dsolve(eq)\n",
      "        >>> print sol\n",
      "        y(t) == C1*exp(t)\n",
      "        ...\n",
      "        ...\n",
      "        !ec\n"
     ]
    },
    {
     "cell_type": "markdown",
     "metadata": {},
     "source": [
      "That is, the interactive session looks exactly as it does in the terminal\n",
      "window with the primitive Python shell.\n",
      "\n",
      "We can, alternatively, use IPython syntax:"
     ]
    },
    {
     "cell_type": "markdown",
     "metadata": {},
     "source": [
      "        !bc ipy\n",
      "        In [1]: from sympy import *\n",
      "        In [2]: t = symbols('t', real=True, positive=True)\n",
      "        In [3]: y = symbols('y', cls=Function)\n",
      "        In [4]: # Solve differential equation using dsolve\n",
      "        In [5]: eq = diff(y(t), t) - y(t)\n",
      "        In [6]: print eq\n",
      "        Out[6]: -y(t) + Derivative(y(t), t)\n",
      "        In [7]: sol = dsolve(eq)\n",
      "        In [8]: print sol\n",
      "        Out[8]: y(t) == C1*exp(t)\n",
      "        !ec\n"
     ]
    },
    {
     "cell_type": "markdown",
     "metadata": {},
     "source": [
      "This last `ipy` environment results in"
     ]
    },
    {
     "cell_type": "code",
     "collapsed": false,
     "input": [
      "from sympy import *\n",
      "t = symbols('t', real=True, positive=True)\n",
      "y = symbols('y', cls=Function)\n",
      "# Solve differential equation using dsolve\n",
      "eq = diff(y(t), t) - y(t)\n",
      "print eq\n"
     ],
     "language": "python",
     "metadata": {},
     "outputs": [],
     "prompt_number": 7
    },
    {
     "cell_type": "code",
     "collapsed": false,
     "input": [
      "sol = dsolve(eq)\n",
      "print sol\n"
     ],
     "language": "python",
     "metadata": {},
     "outputs": [],
     "prompt_number": 8
    },
    {
     "cell_type": "markdown",
     "metadata": {},
     "source": [
      "There is an option `--ipynb_split_pyshell=off` that can be given to\n",
      "`doconce format ipynb` when compiling documents and that turns off\n",
      "the behaviour that interactive sessions are split into multiple\n",
      "cells. The result is then one single cell, and if we have\n",
      "\"printing\" as in `>>> eq`, there will be no output, except from\n",
      "the last one, in the output field in the notebook. This is usually\n",
      "not the behavior you want.\n",
      "\n",
      "\n",
      "### Showing an interactive session as pure text\n",
      "\n",
      "Sometimes one wants to show an interactive session exactly as it looks like,\n",
      "with the input and the output.\n",
      "This can be done in the notebook by using the `dpyshell`\n",
      "or `dipy` environments (`d` for *display* Python shell or IPython\n",
      "shell). With this DocOnce input,"
     ]
    },
    {
     "cell_type": "markdown",
     "metadata": {},
     "source": [
      "        !bc dpyshell\n",
      "        >>> a = 1\n",
      "        >>> b = 2\n",
      "        >>> a + b\n",
      "        3\n",
      "        !ec\n"
     ]
    },
    {
     "cell_type": "markdown",
     "metadata": {},
     "source": [
      "we get the plain text"
     ]
    },
    {
     "cell_type": "markdown",
     "metadata": {},
     "source": [
      "        >>> a = 1\n",
      "        >>> b = 2\n",
      "        >>> a + b\n",
      "        3\n"
     ]
    },
    {
     "cell_type": "markdown",
     "metadata": {},
     "source": [
      "## Ordinary code blocks\n",
      "\n",
      "For ordinary book and manual writing, interactive sessions are used\n",
      "when the results of statements are important. Otherwise one applies\n",
      "standard code blocks. For example,"
     ]
    },
    {
     "cell_type": "markdown",
     "metadata": {},
     "source": [
      "        !bc pycod\n",
      "        x = np.linspace(0,1 4*np.pi, 501)\n",
      "        y = np.exp(-0.5*x)*sin(np.pi*x)\n",
      "        plt.plot(x, y)\n",
      "        !ec\n",
      "        The result of this code segment appears in Figure ref{myfig}.\n",
      "        \n",
      "        FIGURE: [fig/myfig, width=500 frac=0.8] Plot. \\label{myfig}\n"
     ]
    },
    {
     "cell_type": "markdown",
     "metadata": {},
     "source": [
      "This snippet turns out fine in all formats, except the notebook.\n",
      "The problem with notebooks is two-fold:\n",
      "\n",
      "1. The snippet does not run without import of `numpy` and `matplotlib`.\n",
      "\n",
      "2. The snippet results in a plot automatically, and with the figure\n",
      "   in addittion, we get two plots.\n",
      "\n",
      "The remedy for problem 1 is to use *hidden code blocks*, notified as\n",
      "`!bc pyhid` for Python code and `!bc Xhid` in general for language `X`:"
     ]
    },
    {
     "cell_type": "markdown",
     "metadata": {},
     "source": [
      "        !bc pyhid\n",
      "        import numpy as np\n",
      "        import matplotlib as plt\n",
      "        !ec\n"
     ]
    },
    {
     "cell_type": "markdown",
     "metadata": {},
     "source": [
      "Such code blocks are invisible in all formats except for `ipynb`.\n",
      "\n",
      "Problem 2 is solved using one of the preprocessors and an if test on\n",
      "the format, e.g., with Preprocess:"
     ]
    },
    {
     "cell_type": "markdown",
     "metadata": {},
     "source": [
      "        # #if FORMAT != 'ipynb'\n",
      "        The result of this code segment appears in Figure ref{myfig}.\n",
      "        \n",
      "        FIGURE: [fig/myfig, width=500 frac=0.8] Plot. \\label{myfig}\n",
      "        # #endif\n"
     ]
    },
    {
     "cell_type": "markdown",
     "metadata": {},
     "source": [
      "Now we can write the complete code segment with a preceding hidden\n",
      "block for import and the if test:\n",
      "\n",
      "<!-- Note: since Preprocess is used in verbatim block above, we must compile -->\n",
      "<!-- this document with --no_preprocess and therefore use Mako if test -->\n",
      "<!-- to test on the format -->"
     ]
    },
    {
     "cell_type": "code",
     "collapsed": true,
     "input": [
      "%matplotlib inline\n",
      "import numpy as np\n",
      "import matplotlib as plt\n"
     ],
     "language": "python",
     "metadata": {},
     "outputs": [],
     "prompt_number": 9
    },
    {
     "cell_type": "code",
     "collapsed": false,
     "input": [
      "x = np.linspace(0,1 4*np.pi, 501)\n",
      "y = np.exp(-0.5*x)*sin(np.pi*x)\n",
      "plt.plot(x, y)\n"
     ],
     "language": "python",
     "metadata": {},
     "outputs": [],
     "prompt_number": 10
    },
    {
     "cell_type": "markdown",
     "metadata": {},
     "source": [
      "Note that `%matplotlib inline` is automatically inserted before the\n",
      "first import of `matplotlib` in a DocOnce-generated notebook such\n",
      "that all plots are inlined.\n",
      "\n",
      "(Hidden code blocks are also relevant for RunestoneInteractive\n",
      "books, which are made from Sphinx output.)\n",
      "\n",
      "## Other special options for notebooks\n",
      "\n",
      "### Figures and movies\n",
      "\n",
      "Figures and movies can be implemented in several ways in notebooks, depending\n",
      "on the value of the options `--ipynb_figure=` and `ipynb_movie=`. For\n",
      "the former we have the values\n",
      "\n",
      " * `md`: plain Markdown syntax for a figure, with no possibility to adjust\n",
      "   the size (default)\n",
      "\n",
      " * `imgtag`: `<img ...>` tag in HTML taking the specified width into account\n",
      "\n",
      " * `Image`: Python notebook cell with `Image` object\n",
      "\n",
      "Here is an example with `--ipynb_figure=imgtag`:\n",
      "\n",
      "\n",
      "<p></p>\n",
      "<img src=\"https://raw.githubusercontent.com/hplgit/doconce/master/doc/src/manual/fig/wave1D.png\" width=640 height=480>\n",
      "\n",
      "\n",
      "\n",
      "\n",
      "For the movies we have the values\n",
      "\n",
      " * `md`: raw HTML code (default)\n",
      "\n",
      " * `HTML`: raw HTML code (as used by the DocOnce HTML output format for\n",
      "   movies) embedded in the `HTML` object from the notebook (default)\n",
      "\n",
      " * `ipynb`: use simple/standard notebook code and `HTML` object for\n",
      "   showing a local or YouTube movie\n",
      "\n",
      "Below is an example (`--ipynb_movie=HTML`).\n",
      "Execute the cell to create the YouTube video object."
     ]
    },
    {
     "cell_type": "code",
     "collapsed": false,
     "input": [
      "from IPython.display import HTML\n",
      "_s = \"\"\"\n",
      "<iframe width=\"640\" height=\"480\" src=\"http://www.youtube.com/embed/PtJrPEIHNJw\" frameborder=\"0\" allowfullscreen></iframe>\n",
      "\"\"\"\n",
      "HTML(_s)\n"
     ],
     "language": "python",
     "metadata": {},
     "outputs": [],
     "prompt_number": 11
    },
    {
     "cell_type": "markdown",
     "metadata": {},
     "source": [
      "### Admonitions\n",
      "\n",
      "Markdown has no support for admonitions while DocOnce has extensive\n",
      "support. Some methods for simulating admonitions in notebooks have\n",
      "therefore been implemented. These are specified by the `--ipynb_admon=`\n",
      "command-line option.\n",
      "\n",
      " * `quote`: typeset admon as Markdown quote (special font and gray vertical bar on\n",
      "   the left)\n",
      "\n",
      " * `paragraph`: typeset admon as a plain paragraph with a heading if any (default)\n",
      "\n",
      " * `hrule`: use a horozontal rule to surround the heading and the text\n",
      "\n",
      "Note that quotes in `!bc quote` environments\n",
      "are always typeset as Markdown quotes.\n",
      "\n",
      "Here are two examples typeset with `--ipynb_admon=hrule`.\n",
      "\n",
      "\n",
      "\n",
      "<hr/>\n",
      "**Notebooks has limited support for typesetting admons.**\n",
      "\n",
      "Admon environments must be simulated using Markdown quote environment,\n",
      "a plain paragraph, or decorations with HTML `<hr>` hrules.\n",
      "<hr/>\n",
      "\n",
      "\n",
      "\n",
      "\n",
      "\n",
      "<hr/>\n",
      "**Splitting documents.**\n",
      "\n",
      "Formats like `html` and `sphinx` support splitting documents into multiple\n",
      "web pages. The `!split` specification has no support in notebooks. This\n",
      "means that long documents *must* be long notebooks.\n",
      "<hr/>\n",
      "\n",
      "\n",
      "\n",
      "## Equation references\n",
      "\n",
      "Markdown does not support references to equations."
     ]
    },
    {
     "cell_type": "markdown",
     "metadata": {},
     "source": [
      "<!-- Equation labels as ordinary links -->\n",
      "<div id=\"eq1\"></div>\n",
      "\n",
      "$$\n",
      "\\begin{equation}\n",
      "a = 1,\n",
      "\\label{eq1} \\tag{1}\n",
      "\\end{equation}\n",
      "$$"
     ]
    },
    {
     "cell_type": "markdown",
     "metadata": {},
     "source": [
      "<!-- Equation labels as ordinary links -->\n",
      "<div id=\"eq2\"></div>\n",
      "\n",
      "$$\n",
      "\\begin{equation}  \n",
      "b  =2\n",
      "\\label{eq2} \\tag{2}\n",
      "\\end{equation}\n",
      "$$"
     ]
    },
    {
     "cell_type": "markdown",
     "metadata": {},
     "source": [
      "Can we refer to [(1)](#eq1) and [(2)](#eq2) in format `ipynb`?\n",
      "Yes, in DocOnce-extended `ipynb` format, but not when writing\n",
      "notebooks interactively in the browser and using Markdown with LaTeX."
     ]
    }
   ],
   "metadata": {}
  }
 ]
}
